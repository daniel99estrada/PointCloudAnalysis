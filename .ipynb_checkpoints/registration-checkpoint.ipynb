{
 "cells": [
  {
   "cell_type": "code",
   "execution_count": 1,
   "metadata": {},
   "outputs": [
    {
     "name": "stdout",
     "output_type": "stream",
     "text": [
      "Jupyter environment detected. Enabling Open3D WebVisualizer.\n",
      "[Open3D INFO] WebRTC GUI backend enabled.\n",
      "[Open3D INFO] WebRTCWindowSystem: HTTP handshake server disabled.\n"
     ]
    }
   ],
   "source": [
    "# Import Libraries\n",
    "import open3d as o3d\n",
    "import numpy as np\n",
    "import copy\n",
    "import time"
   ]
  },
  {
   "cell_type": "code",
   "execution_count": 2,
   "metadata": {},
   "outputs": [],
   "source": [
    "def preprocess_point_cloud_statistically(point_cloud, voxel_size=0.05, std_ratio=2.0, viz=False):\n",
    "    \"\"\"\n",
    "    Preprocess a point cloud by applying voxel downsizing and statistical outlier removal.\n",
    "\n",
    "    Parameters:\n",
    "        - point_cloud: open3d.geometry.PointCloud, input point cloud\n",
    "        - voxel_size: float, voxel size for downsizing (default is 0.05)\n",
    "        - std_ratio: float, standard deviation ratio for statistical outlier removal (default is 2.0)\n",
    "\n",
    "    Returns:\n",
    "        - preprocessed_point_cloud: open3d.geometry.PointCloud, preprocessed point cloud\n",
    "    \"\"\"\n",
    "    # Voxel downsizing\n",
    "    downsampled_point_cloud = point_cloud.voxel_down_sample(voxel_size)\n",
    "\n",
    "    # Statistical outlier removal\n",
    "    cl, ind = downsampled_point_cloud.remove_statistical_outlier(nb_neighbors=20, std_ratio=std_ratio)\n",
    "\n",
    "    # Extract inliers\n",
    "    preprocessed_point_cloud = downsampled_point_cloud.select_by_index(ind)\n",
    "\n",
    "    if viz:\n",
    "        o3d.visualization.draw_geometries([point_cloud, preprocessed_point_cloud], window_name=\"Original vs. Preprocessed Point Clouds\")\n",
    "\n",
    "    return preprocessed_point_cloud"
   ]
  },
  {
   "cell_type": "code",
   "execution_count": 3,
   "metadata": {},
   "outputs": [],
   "source": [
    "def draw_registration_result(source, target, transformation):\n",
    "    source_temp = copy.deepcopy(source)\n",
    "    target_temp = copy.deepcopy(target)\n",
    "    source_temp.paint_uniform_color([1, 0.706, 0])\n",
    "    target_temp.paint_uniform_color([0, 0.651, 0.929])\n",
    "    source_temp.transform(transformation)\n",
    "    o3d.visualization.draw_geometries([source_temp, target_temp],\n",
    "                                      zoom=0.4459,\n",
    "                                      front=[0.9288, -0.2951, -0.2242],\n",
    "                                      lookat=[1.6784, 2.0612, 1.4451],\n",
    "                                      up=[-0.3402, -0.9189, -0.1996])"
   ]
  },
  {
   "cell_type": "code",
   "execution_count": 4,
   "metadata": {},
   "outputs": [],
   "source": [
    "def icp_registration(source, target):    \n",
    "# Read point clouds and set the threshold\n",
    "    threshold = 0.02\n",
    "    trans_init = np.asarray([[0.862, 0.011, -0.507, 0.5],\n",
    "                            [-0.139, 0.967, -0.215, 0.7],\n",
    "                            [0.487, 0.255, 0.835, -1.4], [0.0, 0.0, 0.0, 1.0]])\n",
    "    draw_registration_result(source, target, trans_init)\n",
    "\n",
    "    # Evaluate initial alignment\n",
    "    print(\"Initial alignment\")\n",
    "    evaluation = o3d.pipelines.registration.evaluate_registration(\n",
    "        source, target, threshold, trans_init)\n",
    "    print(evaluation)\n",
    "\n",
    "    # Point-to-point ICP\n",
    "    print(\"Apply point-to-point ICP\")\n",
    "    reg_p2p = o3d.pipelines.registration.registration_icp(\n",
    "        source, target, threshold, trans_init,\n",
    "        o3d.pipelines.registration.TransformationEstimationPointToPoint())\n",
    "    print(reg_p2p)\n",
    "    print(\"Transformation is:\")\n",
    "    print(reg_p2p.transformation)\n",
    "    draw_registration_result(source, target, reg_p2p.transformation)\n",
    "\n",
    "    # Point-to-point ICP with more iterations\n",
    "    reg_p2p = o3d.pipelines.registration.registration_icp(\n",
    "        source, target, threshold, trans_init,\n",
    "        o3d.pipelines.registration.TransformationEstimationPointToPoint(),\n",
    "        o3d.pipelines.registration.ICPConvergenceCriteria(max_iteration=2000))\n",
    "    print(reg_p2p)\n",
    "    print(\"Transformation is:\")\n",
    "    print(reg_p2p.transformation)\n",
    "    draw_registration_result(source, target, reg_p2p.transformation)\n",
    "\n",
    "    # Point-to-plane ICP\n",
    "    print(\"Apply point-to-plane ICP\")\n",
    "    reg_p2l = o3d.pipelines.registration.registration_icp(\n",
    "        source, target, threshold, trans_init,\n",
    "        o3d.pipelines.registration.TransformationEstimationPointToPlane())\n",
    "    print(reg_p2l)\n",
    "    print(\"Transformation is:\")\n",
    "    print(reg_p2l.transformation)\n",
    "    draw_registration_result(source, target, reg_p2l.transformation)"
   ]
  },
  {
   "cell_type": "code",
   "execution_count": 5,
   "metadata": {},
   "outputs": [],
   "source": [
    "def draw_registration_result(source, target, transformation):\n",
    "    source_temp = copy.deepcopy(source)\n",
    "    target_temp = copy.deepcopy(target)\n",
    "    source_temp.paint_uniform_color([1, 0.706, 0])\n",
    "    target_temp.paint_uniform_color([0, 0.651, 0.929])\n",
    "    source_temp.transform(transformation)\n",
    "    o3d.visualization.draw_geometries([source_temp, target_temp],\n",
    "                                      zoom=0.4559,\n",
    "                                      front=[0.6452, -0.3036, -0.7011],\n",
    "                                      lookat=[1.9892, 2.0208, 1.8945],\n",
    "                                      up=[-0.2779, -0.9482, 0.1556])"
   ]
  },
  {
   "cell_type": "code",
   "execution_count": 6,
   "metadata": {},
   "outputs": [],
   "source": [
    "def preprocess_point_cloud(pcd, voxel_size, std_ratio=2.0):\n",
    "    print(\":: Downsample with a voxel size %.3f.\" % voxel_size)\n",
    "    pcd_down = pcd.voxel_down_sample(voxel_size)\n",
    "\n",
    "    # Statistical outlier removal\n",
    "    cl, ind = pcd_down.remove_statistical_outlier(nb_neighbors=20, std_ratio=std_ratio)\n",
    "\n",
    "    # Extract inliers\n",
    "    print(\":: Extract inliers with an std ratio of %.3f.\" % std_ratio)\n",
    "    preprocessed_point_cloud = pcd_down.select_by_index(ind)\n",
    "\n",
    "    radius_normal = voxel_size * 2\n",
    "    print(\":: Estimate normal with search radius %.3f.\" % radius_normal)\n",
    "    preprocessed_point_cloud.estimate_normals(\n",
    "        o3d.geometry.KDTreeSearchParamHybrid(radius=radius_normal, max_nn=30))\n",
    "\n",
    "    radius_feature = voxel_size * 5\n",
    "    print(\":: Compute FPFH feature with search radius %.3f.\" % radius_feature)\n",
    "    pcd_fpfh = o3d.pipelines.registration.compute_fpfh_feature(\n",
    "        preprocessed_point_cloud,\n",
    "        o3d.geometry.KDTreeSearchParamHybrid(radius=radius_feature, max_nn=100))\n",
    "    return preprocessed_point_cloud, pcd_fpfh"
   ]
  },
  {
   "cell_type": "code",
   "execution_count": 7,
   "metadata": {},
   "outputs": [],
   "source": [
    "def prepare_dataset(source, target, voxel_size, std_ratio):\n",
    "    print(\":: Load two point clouds and disturb initial pose.\")\n",
    "    trans_init = np.asarray([[0.0, 0.0, 1.0, 0.0], [1.0, 0.0, 0.0, 0.0],\n",
    "                             [0.0, 1.0, 0.0, 0.0], [0.0, 0.0, 0.0, 1.0]])\n",
    "    source.transform(trans_init)\n",
    "    draw_registration_result(source, target, np.identity(4))\n",
    "\n",
    "    source_down, source_fpfh = preprocess_point_cloud(source, voxel_size, std_ratio)\n",
    "    target_down, target_fpfh = preprocess_point_cloud(target, voxel_size, std_ratio)\n",
    "    return source, target, source_down, target_down, source_fpfh, target_fpfh"
   ]
  },
  {
   "cell_type": "code",
   "execution_count": 9,
   "metadata": {},
   "outputs": [
    {
     "name": "stdout",
     "output_type": "stream",
     "text": [
      "[Open3D WARNING] Read PLY failed: unable to open file: PointClouds/September15-2023_2.ply\n",
      "[Open3D WARNING] Read PLY failed: unable to open file: PointClouds/September18-2023.ply\n",
      ":: Load two point clouds and disturb initial pose.\n",
      ":: Downsample with a voxel size 0.050.\n",
      ":: Extract inliers with an std ratio of 2.000.\n",
      ":: Estimate normal with search radius 0.100.\n",
      "[Open3D WARNING] [KDTreeFlann::SetRawData] Failed due to no data.\n",
      ":: Compute FPFH feature with search radius 0.250.\n"
     ]
    },
    {
     "ename": "RuntimeError",
     "evalue": "[Open3D Error] (class std::shared_ptr<class open3d::pipelines::registration::Feature> __cdecl open3d::pipelines::registration::ComputeFPFHFeature(const class open3d::geometry::PointCloud &,const class open3d::geometry::KDTreeSearchParam &)) D:\\a\\Open3D\\Open3D\\cpp\\open3d\\pipelines\\registration\\Feature.cpp:101: Failed because input point cloud has no normal.\n",
     "output_type": "error",
     "traceback": [
      "\u001b[1;31m---------------------------------------------------------------------------\u001b[0m",
      "\u001b[1;31mRuntimeError\u001b[0m                              Traceback (most recent call last)",
      "Cell \u001b[1;32mIn[9], line 13\u001b[0m\n\u001b[0;32m     10\u001b[0m preprocess_point_cloud_statistically(point_cloud1, voxel_size, std_ratio, \u001b[38;5;28;01mFalse\u001b[39;00m)\n\u001b[0;32m     11\u001b[0m preprocess_point_cloud_statistically(point_cloud2, voxel_size, std_ratio, \u001b[38;5;28;01mFalse\u001b[39;00m)\n\u001b[1;32m---> 13\u001b[0m source, target, source_down, target_down, source_fpfh, target_fpfh \u001b[38;5;241m=\u001b[39m \u001b[43mprepare_dataset\u001b[49m\u001b[43m(\u001b[49m\u001b[43mpoint_cloud1\u001b[49m\u001b[43m,\u001b[49m\u001b[43m \u001b[49m\u001b[43mpoint_cloud2\u001b[49m\u001b[43m,\u001b[49m\u001b[43m \u001b[49m\u001b[43mvoxel_size\u001b[49m\u001b[43m,\u001b[49m\u001b[43m \u001b[49m\u001b[43mstd_ratio\u001b[49m\u001b[43m)\u001b[49m\n",
      "Cell \u001b[1;32mIn[7], line 8\u001b[0m, in \u001b[0;36mprepare_dataset\u001b[1;34m(source, target, voxel_size, std_ratio)\u001b[0m\n\u001b[0;32m      5\u001b[0m source\u001b[38;5;241m.\u001b[39mtransform(trans_init)\n\u001b[0;32m      6\u001b[0m draw_registration_result(source, target, np\u001b[38;5;241m.\u001b[39midentity(\u001b[38;5;241m4\u001b[39m))\n\u001b[1;32m----> 8\u001b[0m source_down, source_fpfh \u001b[38;5;241m=\u001b[39m \u001b[43mpreprocess_point_cloud\u001b[49m\u001b[43m(\u001b[49m\u001b[43msource\u001b[49m\u001b[43m,\u001b[49m\u001b[43m \u001b[49m\u001b[43mvoxel_size\u001b[49m\u001b[43m,\u001b[49m\u001b[43m \u001b[49m\u001b[43mstd_ratio\u001b[49m\u001b[43m)\u001b[49m\n\u001b[0;32m      9\u001b[0m target_down, target_fpfh \u001b[38;5;241m=\u001b[39m preprocess_point_cloud(target, voxel_size, std_ratio)\n\u001b[0;32m     10\u001b[0m \u001b[38;5;28;01mreturn\u001b[39;00m source, target, source_down, target_down, source_fpfh, target_fpfh\n",
      "Cell \u001b[1;32mIn[6], line 19\u001b[0m, in \u001b[0;36mpreprocess_point_cloud\u001b[1;34m(pcd, voxel_size, std_ratio)\u001b[0m\n\u001b[0;32m     17\u001b[0m radius_feature \u001b[38;5;241m=\u001b[39m voxel_size \u001b[38;5;241m*\u001b[39m \u001b[38;5;241m5\u001b[39m\n\u001b[0;32m     18\u001b[0m \u001b[38;5;28mprint\u001b[39m(\u001b[38;5;124m\"\u001b[39m\u001b[38;5;124m:: Compute FPFH feature with search radius \u001b[39m\u001b[38;5;132;01m%.3f\u001b[39;00m\u001b[38;5;124m.\u001b[39m\u001b[38;5;124m\"\u001b[39m \u001b[38;5;241m%\u001b[39m radius_feature)\n\u001b[1;32m---> 19\u001b[0m pcd_fpfh \u001b[38;5;241m=\u001b[39m \u001b[43mo3d\u001b[49m\u001b[38;5;241;43m.\u001b[39;49m\u001b[43mpipelines\u001b[49m\u001b[38;5;241;43m.\u001b[39;49m\u001b[43mregistration\u001b[49m\u001b[38;5;241;43m.\u001b[39;49m\u001b[43mcompute_fpfh_feature\u001b[49m\u001b[43m(\u001b[49m\n\u001b[0;32m     20\u001b[0m \u001b[43m    \u001b[49m\u001b[43mpreprocessed_point_cloud\u001b[49m\u001b[43m,\u001b[49m\n\u001b[0;32m     21\u001b[0m \u001b[43m    \u001b[49m\u001b[43mo3d\u001b[49m\u001b[38;5;241;43m.\u001b[39;49m\u001b[43mgeometry\u001b[49m\u001b[38;5;241;43m.\u001b[39;49m\u001b[43mKDTreeSearchParamHybrid\u001b[49m\u001b[43m(\u001b[49m\u001b[43mradius\u001b[49m\u001b[38;5;241;43m=\u001b[39;49m\u001b[43mradius_feature\u001b[49m\u001b[43m,\u001b[49m\u001b[43m \u001b[49m\u001b[43mmax_nn\u001b[49m\u001b[38;5;241;43m=\u001b[39;49m\u001b[38;5;241;43m100\u001b[39;49m\u001b[43m)\u001b[49m\u001b[43m)\u001b[49m\n\u001b[0;32m     22\u001b[0m \u001b[38;5;28;01mreturn\u001b[39;00m preprocessed_point_cloud, pcd_fpfh\n",
      "\u001b[1;31mRuntimeError\u001b[0m: [Open3D Error] (class std::shared_ptr<class open3d::pipelines::registration::Feature> __cdecl open3d::pipelines::registration::ComputeFPFHFeature(const class open3d::geometry::PointCloud &,const class open3d::geometry::KDTreeSearchParam &)) D:\\a\\Open3D\\Open3D\\cpp\\open3d\\pipelines\\registration\\Feature.cpp:101: Failed because input point cloud has no normal.\n"
     ]
    }
   ],
   "source": [
    "# Prepare Dataset \n",
    "ply_file_path = 'PointClouds/September15-2023_2.ply'\n",
    "point_cloud1 = o3d.io.read_point_cloud(ply_file_path)\n",
    "\n",
    "ply_file_path = 'PointClouds/September18-2023.ply'\n",
    "point_cloud2 = o3d.io.read_point_cloud(ply_file_path)\n",
    "\n",
    "voxel_size = 0.05  # means 5cm for this dataset\n",
    "std_ratio = 2.0\n",
    "preprocess_point_cloud_statistically(point_cloud1, voxel_size, std_ratio, False)\n",
    "preprocess_point_cloud_statistically(point_cloud2, voxel_size, std_ratio, False)\n",
    "\n",
    "source, target, source_down, target_down, source_fpfh, target_fpfh = prepare_dataset(point_cloud1, point_cloud2, voxel_size, std_ratio)"
   ]
  },
  {
   "cell_type": "code",
   "execution_count": null,
   "metadata": {},
   "outputs": [],
   "source": [
    "def execute_global_registration(source_down, target_down, source_fpfh,\n",
    "                                target_fpfh, voxel_size):\n",
    "    distance_threshold = voxel_size * 1.5\n",
    "    print(\":: RANSAC registration on downsampled point clouds.\")\n",
    "    print(\"   Since the downsampling voxel size is %.3f,\" % voxel_size)\n",
    "    print(\"   we use a liberal distance threshold %.3f.\" % distance_threshold)\n",
    "    result = o3d.pipelines.registration.registration_ransac_based_on_feature_matching(\n",
    "        source_down, target_down, source_fpfh, target_fpfh, True,\n",
    "        distance_threshold,\n",
    "        o3d.pipelines.registration.TransformationEstimationPointToPoint(False),\n",
    "        3, [\n",
    "            o3d.pipelines.registration.CorrespondenceCheckerBasedOnEdgeLength(\n",
    "                0.9),\n",
    "            o3d.pipelines.registration.CorrespondenceCheckerBasedOnDistance(\n",
    "                distance_threshold)\n",
    "        ], o3d.pipelines.registration.RANSACConvergenceCriteria(100000, 0.999))\n",
    "    return result"
   ]
  },
  {
   "cell_type": "code",
   "execution_count": null,
   "metadata": {},
   "outputs": [],
   "source": [
    "# Execute Global Registration\n",
    "result_ransac = execute_global_registration(source_down, target_down,\n",
    "                                            source_fpfh, target_fpfh,\n",
    "                                            voxel_size)\n",
    "print(result_ransac)\n",
    "draw_registration_result(source_down, target_down, result_ransac.transformation)"
   ]
  },
  {
   "cell_type": "code",
   "execution_count": null,
   "metadata": {},
   "outputs": [],
   "source": [
    "def refine_registration(source, target, source_fpfh, target_fpfh, voxel_size):\n",
    "    distance_threshold = voxel_size * 0.4\n",
    "    print(\":: Point-to-plane ICP registration is applied on original point\")\n",
    "    print(\"   clouds to refine the alignment. This time we use a strict\")\n",
    "    print(\"   distance threshold %.3f.\" % distance_threshold)\n",
    "    result = o3d.pipelines.registration.registration_icp(\n",
    "        source, target, distance_threshold, result_ransac.transformation,\n",
    "        o3d.pipelines.registration.TransformationEstimationPoint)"
   ]
  },
  {
   "cell_type": "code",
   "execution_count": null,
   "metadata": {},
   "outputs": [],
   "source": [
    "# # ICP Refine registration\n",
    "# result_icp = refine_registration(source_down, target_down, source_fpfh, target_fpfh,\n",
    "#                                  voxel_size)\n",
    "# print(result_icp)\n",
    "\n",
    "icp_registration(source_down, target_down)\n"
   ]
  }
 ],
 "metadata": {
  "kernelspec": {
   "display_name": "Python 3 (ipykernel)",
   "language": "python",
   "name": "python3"
  },
  "language_info": {
   "codemirror_mode": {
    "name": "ipython",
    "version": 3
   },
   "file_extension": ".py",
   "mimetype": "text/x-python",
   "name": "python",
   "nbconvert_exporter": "python",
   "pygments_lexer": "ipython3",
   "version": "3.9.13"
  }
 },
 "nbformat": 4,
 "nbformat_minor": 4
}
